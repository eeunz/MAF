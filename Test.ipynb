{
 "cells": [
  {
   "cell_type": "code",
   "execution_count": 1,
   "metadata": {},
   "outputs": [
    {
     "data": {
      "text/plain": [
       "(500, 3)"
      ]
     },
     "execution_count": 1,
     "metadata": {},
     "output_type": "execute_result"
    }
   ],
   "source": [
    "## Save sample.npy\n",
    "import numpy as np\n",
    "\n",
    "feature = np.random.random((500, 2))\n",
    "target = np.random.randint(0, 2, size=500)\n",
    "bias = np.random.randint(0, 2, size=500)\n",
    "\n",
    "input_vec = np.column_stack((feature, bias))\n",
    "input_vec.shape"
   ]
  },
  {
   "cell_type": "code",
   "execution_count": 16,
   "metadata": {},
   "outputs": [],
   "source": [
    "whole = np.column_stack((feature, bias, target))\n",
    "np.save('sample.npy', whole)"
   ]
  },
  {
   "cell_type": "markdown",
   "metadata": {},
   "source": [
    "# FairBatch Test"
   ]
  },
  {
   "cell_type": "code",
   "execution_count": 1,
   "metadata": {},
   "outputs": [
    {
     "name": "stdout",
     "output_type": "stream",
     "text": [
      "Trained on [[[  cpu  ]]] device.\n"
     ]
    }
   ],
   "source": [
    "from DataSet import RawDataSet\n",
    "from Algorithms.sota import FairBatch"
   ]
  },
  {
   "cell_type": "code",
   "execution_count": 2,
   "metadata": {},
   "outputs": [],
   "source": [
    "raw_dataset = RawDataSet('sample.npy',\n",
    "                        target_col_idx=3,\n",
    "                        bias_col_idx=2)"
   ]
  },
  {
   "cell_type": "code",
   "execution_count": 3,
   "metadata": {},
   "outputs": [
    {
     "name": "stdout",
     "output_type": "stream",
     "text": [
      "(500, 3)\n",
      "(500,)\n",
      "(500,)\n"
     ]
    }
   ],
   "source": [
    "print(raw_dataset.feature.shape)\n",
    "print(raw_dataset.target.shape)\n",
    "print(raw_dataset.bias.shape)"
   ]
  },
  {
   "cell_type": "code",
   "execution_count": 7,
   "metadata": {},
   "outputs": [
    {
     "name": "stdout",
     "output_type": "stream",
     "text": [
      "Epoch [0] || Average loss : 0.6922687441110611\n",
      "Epoch [10] || Average loss : 0.6789784967899323\n",
      "Epoch [20] || Average loss : 0.6628393918275833\n",
      "Epoch [30] || Average loss : 0.6494229435920715\n",
      "Epoch [40] || Average loss : 0.6408750265836716\n",
      "Epoch [50] || Average loss : 0.6101294562220574\n",
      "Epoch [60] || Average loss : 0.5957232177257538\n",
      "Epoch [70] || Average loss : 0.5848060175776482\n",
      "Epoch [80] || Average loss : 0.5737685456871986\n",
      "Epoch [90] || Average loss : 0.5550475209951401\n",
      "Epoch [100] || Average loss : 0.5449102759361267\n",
      "Epoch [110] || Average loss : 0.5484165489673615\n",
      "Epoch [120] || Average loss : 0.5164288520812989\n",
      "Epoch [130] || Average loss : 0.5186189979314804\n",
      "Epoch [140] || Average loss : 0.4843628540635109\n",
      "Epoch [150] || Average loss : 0.4868221454322338\n",
      "Epoch [160] || Average loss : 0.49905717819929124\n",
      "Epoch [170] || Average loss : 0.42616424188017843\n",
      "Epoch [180] || Average loss : 0.4441858664155006\n",
      "Epoch [190] || Average loss : 0.5107213020324707\n",
      "Epoch [200] || Average loss : 0.3989224910736084\n",
      "Epoch [210] || Average loss : 0.4428528621792793\n",
      "Epoch [220] || Average loss : 0.4591230839490891\n",
      "Epoch [230] || Average loss : 0.372963847219944\n",
      "Epoch [240] || Average loss : 0.39593430534005164\n",
      "Epoch [250] || Average loss : 0.3882262833416462\n",
      "Epoch [260] || Average loss : 0.47343059331178666\n",
      "Epoch [270] || Average loss : 0.3719260610640049\n",
      "Epoch [280] || Average loss : 0.3371872968971729\n",
      "Epoch [290] || Average loss : 0.3734816946089268\n",
      "\n",
      "########## Train finished ##########\n",
      "\n"
     ]
    }
   ],
   "source": [
    "## train\n",
    "prediction = FairBatch.train(raw_dataset,\n",
    "                            batch_size=20,\n",
    "                            alpha=0.05,\n",
    "                            target_fairness='eqopp',\n",
    "                            learning_rate=0.005,\n",
    "                            num_epochs=300)"
   ]
  },
  {
   "cell_type": "code",
   "execution_count": 8,
   "metadata": {},
   "outputs": [
    {
     "data": {
      "text/plain": [
       "array([0., 1.])"
      ]
     },
     "execution_count": 8,
     "metadata": {},
     "output_type": "execute_result"
    }
   ],
   "source": [
    "import numpy as np\n",
    "np.unique(np.array(prediction))"
   ]
  },
  {
   "cell_type": "markdown",
   "metadata": {},
   "source": [
    "# Fairness VAE Test"
   ]
  },
  {
   "cell_type": "code",
   "execution_count": 1,
   "metadata": {},
   "outputs": [
    {
     "name": "stdout",
     "output_type": "stream",
     "text": [
      "Train on [[[  cpu  ]]] device.\n"
     ]
    }
   ],
   "source": [
    "from DataSet import RawDataSet\n",
    "from Algorithms.sota import FairnessVAE"
   ]
  },
  {
   "cell_type": "code",
   "execution_count": 2,
   "metadata": {},
   "outputs": [],
   "source": [
    "raw_dataset = RawDataSet('CelebA_samples.csv',\n",
    "                        target_col_name='Heavy_Makeup',\n",
    "                        bias_col_name='Male')"
   ]
  },
  {
   "cell_type": "code",
   "execution_count": 3,
   "metadata": {},
   "outputs": [
    {
     "name": "stdout",
     "output_type": "stream",
     "text": [
      "(500, 12289)\n",
      "(500,)\n",
      "(500,)\n"
     ]
    }
   ],
   "source": [
    "print(raw_dataset.feature.shape)\n",
    "print(raw_dataset.target.shape)\n",
    "print(raw_dataset.bias.shape)"
   ]
  },
  {
   "cell_type": "code",
   "execution_count": 4,
   "metadata": {},
   "outputs": [],
   "source": [
    "fVAE = FairnessVAE.FairnessVAE(raw_dataset, z_dim=10, batch_size=20, num_epochs=10)"
   ]
  },
  {
   "cell_type": "code",
   "execution_count": 5,
   "metadata": {},
   "outputs": [
    {
     "name": "stdout",
     "output_type": "stream",
     "text": [
      "### Training upstream start\n",
      "Epoch [001]   VAE loss: 8488.457   Discriminator loss: 2.125\n",
      "Epoch [002]   VAE loss: 8447.294   Discriminator loss: 61.484\n",
      "Epoch [003]   VAE loss: 8377.123   Discriminator loss: 1148.804\n",
      "Epoch [004]   VAE loss: 8087.902   Discriminator loss: 10054.268\n",
      "Epoch [005]   VAE loss: 6283.357   Discriminator loss: 81020.266\n",
      "Epoch [006]   VAE loss: 1389.179   Discriminator loss: 1452184.250\n",
      "Epoch [007]   VAE loss: 368.737   Discriminator loss: 3478610.000\n",
      "Epoch [008]   VAE loss: -52.888   Discriminator loss: 9802426.000\n",
      "Epoch [009]   VAE loss: -1539.800   Discriminator loss: 60422336.000\n",
      "Epoch [010]   VAE loss: -8915.603   Discriminator loss: 322696896.000\n",
      "### Upstream training done.\n"
     ]
    }
   ],
   "source": [
    "fVAE.train_upstream()"
   ]
  },
  {
   "cell_type": "code",
   "execution_count": 6,
   "metadata": {},
   "outputs": [
    {
     "name": "stdout",
     "output_type": "stream",
     "text": [
      "### Downstream training start.\n",
      "Epoch [001]   VAE loss: -5925087.000   Discriminator loss: 11.183\n",
      "Epoch [002]   VAE loss: -5906495.500   Discriminator loss: 10.252\n",
      "Epoch [003]   VAE loss: -5738009.000   Discriminator loss: 9.850\n",
      "Epoch [004]   VAE loss: -5938065.000   Discriminator loss: 10.196\n",
      "Epoch [005]   VAE loss: -5719674.500   Discriminator loss: 9.718\n",
      "Epoch [006]   VAE loss: -5928641.000   Discriminator loss: 9.772\n",
      "Epoch [007]   VAE loss: -5648499.000   Discriminator loss: 9.790\n",
      "Epoch [008]   VAE loss: -5849673.000   Discriminator loss: 9.647\n",
      "Epoch [009]   VAE loss: -5676220.000   Discriminator loss: 9.621\n",
      "Epoch [010]   VAE loss: -5830849.000   Discriminator loss: 9.602\n",
      "### Downstream training done.\n"
     ]
    }
   ],
   "source": [
    "fVAE.train_downstream()"
   ]
  },
  {
   "cell_type": "code",
   "execution_count": 7,
   "metadata": {},
   "outputs": [
    {
     "name": "stdout",
     "output_type": "stream",
     "text": [
      "### Evaluation start.\n",
      "### Evaluation done.\n"
     ]
    }
   ],
   "source": [
    "pred = fVAE.evaluation()"
   ]
  },
  {
   "cell_type": "code",
   "execution_count": null,
   "metadata": {},
   "outputs": [],
   "source": []
  }
 ],
 "metadata": {
  "kernelspec": {
   "display_name": "Python 3",
   "language": "python",
   "name": "python3"
  },
  "language_info": {
   "codemirror_mode": {
    "name": "ipython",
    "version": 3
   },
   "file_extension": ".py",
   "mimetype": "text/x-python",
   "name": "python",
   "nbconvert_exporter": "python",
   "pygments_lexer": "ipython3",
   "version": "3.8.10"
  }
 },
 "nbformat": 4,
 "nbformat_minor": 4
}
